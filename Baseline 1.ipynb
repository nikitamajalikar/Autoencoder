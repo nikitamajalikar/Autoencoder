{
 "cells": [
  {
   "cell_type": "code",
   "execution_count": 50,
   "id": "9441367a",
   "metadata": {},
   "outputs": [],
   "source": [
    "import pandas as pd\n",
    "import numpy as np\n",
    "from sklearn.preprocessing import MinMaxScaler\n",
    "from sklearn.model_selection import train_test_split\n",
    "import tensorflow as tf\n",
    "from tensorflow.keras.layers import Input, Dense\n",
    "from tensorflow.keras.models import Model\n",
    "from sklearn.metrics import mean_squared_error, mean_absolute_error\n",
    "import matplotlib.pyplot as plt"
   ]
  },
  {
   "cell_type": "code",
   "execution_count": 51,
   "id": "1d27ddef",
   "metadata": {},
   "outputs": [],
   "source": [
    "# Function to parse a string into a NumPy array\n",
    "def parse_vector_string(vector_string, vector_length):\n",
    "    if isinstance(vector_string, float):\n",
    "        return np.array([vector_string], dtype=np.float32)\n",
    "    \n",
    "    values = vector_string.strip('[]').split()\n",
    "    if len(values) == vector_length:\n",
    "        vector = np.array([float(value) for value in values], dtype=np.float32)\n",
    "        return vector\n",
    "    else:\n",
    "        return np.zeros(vector_length, dtype=np.float32)"
   ]
  },
  {
   "cell_type": "code",
   "execution_count": 52,
   "id": "3aec5722",
   "metadata": {},
   "outputs": [],
   "source": [
    "# Load your CSV file\n",
    "data = pd.read_csv('Final_Vectorised_Dataset.csv')\n",
    "\n",
    "# Define the expected length of your vectors\n",
    "YOUR_VECTOR_LENGTH = 3041  # Modify this to the actual length of your vectors"
   ]
  },
  {
   "cell_type": "code",
   "execution_count": 53,
   "id": "0063fb92",
   "metadata": {},
   "outputs": [],
   "source": [
    "# Assuming the CSV file has a column 'Title_Vector' containing vector strings\n",
    "requirement_vectors = data['Title_Vector'].apply(parse_vector_string, vector_length=YOUR_VECTOR_LENGTH)\n",
    "\n",
    "# Filter out entries with invalid vectors\n",
    "requirement_vectors = requirement_vectors[requirement_vectors.apply(lambda x: x.shape == (YOUR_VECTOR_LENGTH,))]\n",
    "\n",
    "# Extract relevant columns\n",
    "complexity = data[['Lines of Code', 'Cyclomatic Complexity']].values\n",
    "consequence = data[['Number of Calls', 'TBF', 'Reliability']].values"
   ]
  },
  {
   "cell_type": "code",
   "execution_count": 54,
   "id": "09f65bc7",
   "metadata": {},
   "outputs": [],
   "source": [
    "# Convert the filtered arrays to a NumPy array and normalize\n",
    "requirement_vectors = np.array(requirement_vectors.tolist(), dtype=np.float32)\n",
    "scaler = MinMaxScaler()\n",
    "requirement_vectors = scaler.fit_transform(requirement_vectors)\n",
    "complexity = scaler.fit_transform(complexity)\n",
    "consequence = scaler.fit_transform(consequence)"
   ]
  },
  {
   "cell_type": "code",
   "execution_count": 55,
   "id": "6677cf20",
   "metadata": {},
   "outputs": [],
   "source": [
    "# Split the data into training and testing sets\n",
    "req_train, req_test, comp_train, comp_test, conseq_train, conseq_test = train_test_split(\n",
    "    requirement_vectors, complexity, consequence, test_size=0.2)"
   ]
  },
  {
   "cell_type": "code",
   "execution_count": 56,
   "id": "2b9c4870",
   "metadata": {},
   "outputs": [],
   "source": [
    "# Build a neural network for complexity prediction\n",
    "input_layer = Input(shape=(YOUR_VECTOR_LENGTH,))\n",
    "complexity_output = Dense(2, activation='linear')(input_layer)  # 2 outputs for Complexity\n",
    "complexity_model = Model(input_layer, complexity_output)\n",
    "complexity_model.compile(optimizer='adam', loss='mean_squared_error')"
   ]
  },
  {
   "cell_type": "code",
   "execution_count": 57,
   "id": "37221d52",
   "metadata": {},
   "outputs": [
    {
     "name": "stdout",
     "output_type": "stream",
     "text": [
      "Epoch 1/100\n",
      "76/76 [==============================] - 1s 3ms/step - loss: 0.0642 - val_loss: 0.0714\n",
      "Epoch 2/100\n",
      "76/76 [==============================] - 0s 3ms/step - loss: 0.0552 - val_loss: 0.0654\n",
      "Epoch 3/100\n",
      "76/76 [==============================] - 0s 3ms/step - loss: 0.0525 - val_loss: 0.0638\n",
      "Epoch 4/100\n",
      "76/76 [==============================] - 0s 2ms/step - loss: 0.0520 - val_loss: 0.0634\n",
      "Epoch 5/100\n",
      "76/76 [==============================] - 0s 2ms/step - loss: 0.0520 - val_loss: 0.0633\n",
      "Epoch 6/100\n",
      "76/76 [==============================] - 0s 2ms/step - loss: 0.0519 - val_loss: 0.0632\n",
      "Epoch 7/100\n",
      "76/76 [==============================] - 0s 3ms/step - loss: 0.0519 - val_loss: 0.0633\n",
      "Epoch 8/100\n",
      "76/76 [==============================] - 0s 2ms/step - loss: 0.0519 - val_loss: 0.0632\n",
      "Epoch 9/100\n",
      "76/76 [==============================] - 0s 2ms/step - loss: 0.0519 - val_loss: 0.0632\n",
      "Epoch 10/100\n",
      "76/76 [==============================] - 0s 2ms/step - loss: 0.0520 - val_loss: 0.0632\n",
      "Epoch 11/100\n",
      "76/76 [==============================] - 0s 2ms/step - loss: 0.0519 - val_loss: 0.0633\n",
      "Epoch 12/100\n",
      "76/76 [==============================] - 0s 2ms/step - loss: 0.0519 - val_loss: 0.0632\n",
      "Epoch 13/100\n",
      "76/76 [==============================] - 0s 2ms/step - loss: 0.0519 - val_loss: 0.0632\n",
      "Epoch 14/100\n",
      "76/76 [==============================] - 0s 2ms/step - loss: 0.0519 - val_loss: 0.0633\n",
      "Epoch 15/100\n",
      "76/76 [==============================] - 0s 2ms/step - loss: 0.0520 - val_loss: 0.0632\n",
      "Epoch 16/100\n",
      "76/76 [==============================] - 0s 2ms/step - loss: 0.0519 - val_loss: 0.0632\n",
      "Epoch 17/100\n",
      "76/76 [==============================] - 0s 2ms/step - loss: 0.0520 - val_loss: 0.0632\n",
      "Epoch 18/100\n",
      "76/76 [==============================] - 0s 2ms/step - loss: 0.0519 - val_loss: 0.0633\n",
      "Epoch 19/100\n",
      "76/76 [==============================] - 0s 2ms/step - loss: 0.0520 - val_loss: 0.0633\n",
      "Epoch 20/100\n",
      "76/76 [==============================] - 0s 2ms/step - loss: 0.0519 - val_loss: 0.0633\n",
      "Epoch 21/100\n",
      "76/76 [==============================] - 0s 2ms/step - loss: 0.0520 - val_loss: 0.0632\n",
      "Epoch 22/100\n",
      "76/76 [==============================] - 0s 2ms/step - loss: 0.0519 - val_loss: 0.0633\n",
      "Epoch 23/100\n",
      "76/76 [==============================] - 0s 2ms/step - loss: 0.0520 - val_loss: 0.0632\n",
      "Epoch 24/100\n",
      "76/76 [==============================] - 0s 2ms/step - loss: 0.0519 - val_loss: 0.0633\n",
      "Epoch 25/100\n",
      "76/76 [==============================] - 0s 2ms/step - loss: 0.0520 - val_loss: 0.0632\n",
      "Epoch 26/100\n",
      "76/76 [==============================] - 0s 2ms/step - loss: 0.0519 - val_loss: 0.0632\n",
      "Epoch 27/100\n",
      "76/76 [==============================] - 0s 1ms/step - loss: 0.0520 - val_loss: 0.0633\n",
      "Epoch 28/100\n",
      "76/76 [==============================] - 0s 2ms/step - loss: 0.0520 - val_loss: 0.0633\n",
      "Epoch 29/100\n",
      "76/76 [==============================] - 0s 2ms/step - loss: 0.0520 - val_loss: 0.0632\n",
      "Epoch 30/100\n",
      "76/76 [==============================] - 0s 2ms/step - loss: 0.0519 - val_loss: 0.0633\n",
      "Epoch 31/100\n",
      "76/76 [==============================] - 0s 2ms/step - loss: 0.0519 - val_loss: 0.0633\n",
      "Epoch 32/100\n",
      "76/76 [==============================] - 0s 2ms/step - loss: 0.0519 - val_loss: 0.0632\n",
      "Epoch 33/100\n",
      "76/76 [==============================] - 0s 2ms/step - loss: 0.0520 - val_loss: 0.0633\n",
      "Epoch 34/100\n",
      "76/76 [==============================] - 0s 2ms/step - loss: 0.0519 - val_loss: 0.0633\n",
      "Epoch 35/100\n",
      "76/76 [==============================] - 0s 2ms/step - loss: 0.0520 - val_loss: 0.0633\n",
      "Epoch 36/100\n",
      "76/76 [==============================] - 0s 2ms/step - loss: 0.0519 - val_loss: 0.0632\n",
      "Epoch 37/100\n",
      "76/76 [==============================] - 0s 2ms/step - loss: 0.0520 - val_loss: 0.0632\n",
      "Epoch 38/100\n",
      "76/76 [==============================] - 0s 2ms/step - loss: 0.0519 - val_loss: 0.0632\n",
      "Epoch 39/100\n",
      "76/76 [==============================] - 0s 2ms/step - loss: 0.0519 - val_loss: 0.0633\n",
      "Epoch 40/100\n",
      "76/76 [==============================] - 0s 2ms/step - loss: 0.0519 - val_loss: 0.0632\n",
      "Epoch 41/100\n",
      "76/76 [==============================] - 0s 2ms/step - loss: 0.0519 - val_loss: 0.0633\n",
      "Epoch 42/100\n",
      "76/76 [==============================] - 0s 2ms/step - loss: 0.0520 - val_loss: 0.0633\n",
      "Epoch 43/100\n",
      "76/76 [==============================] - 0s 2ms/step - loss: 0.0519 - val_loss: 0.0633\n",
      "Epoch 44/100\n",
      "76/76 [==============================] - 0s 2ms/step - loss: 0.0519 - val_loss: 0.0633\n",
      "Epoch 45/100\n",
      "76/76 [==============================] - 0s 2ms/step - loss: 0.0519 - val_loss: 0.0632\n",
      "Epoch 46/100\n",
      "76/76 [==============================] - 0s 2ms/step - loss: 0.0519 - val_loss: 0.0632\n",
      "Epoch 47/100\n",
      "76/76 [==============================] - 0s 2ms/step - loss: 0.0519 - val_loss: 0.0632\n",
      "Epoch 48/100\n",
      "76/76 [==============================] - 0s 2ms/step - loss: 0.0520 - val_loss: 0.0633\n",
      "Epoch 49/100\n",
      "76/76 [==============================] - 0s 2ms/step - loss: 0.0519 - val_loss: 0.0633\n",
      "Epoch 50/100\n",
      "76/76 [==============================] - 0s 2ms/step - loss: 0.0520 - val_loss: 0.0633\n",
      "Epoch 51/100\n",
      "76/76 [==============================] - 0s 2ms/step - loss: 0.0520 - val_loss: 0.0634\n",
      "Epoch 52/100\n",
      "76/76 [==============================] - 0s 2ms/step - loss: 0.0519 - val_loss: 0.0633\n",
      "Epoch 53/100\n",
      "76/76 [==============================] - 0s 2ms/step - loss: 0.0519 - val_loss: 0.0633\n",
      "Epoch 54/100\n",
      "76/76 [==============================] - 0s 2ms/step - loss: 0.0520 - val_loss: 0.0633\n",
      "Epoch 55/100\n",
      "76/76 [==============================] - 0s 2ms/step - loss: 0.0519 - val_loss: 0.0633\n",
      "Epoch 56/100\n",
      "76/76 [==============================] - 0s 1ms/step - loss: 0.0519 - val_loss: 0.0632\n",
      "Epoch 57/100\n",
      "76/76 [==============================] - 0s 1ms/step - loss: 0.0520 - val_loss: 0.0632\n",
      "Epoch 58/100\n",
      "76/76 [==============================] - 0s 1ms/step - loss: 0.0520 - val_loss: 0.0633\n",
      "Epoch 59/100\n",
      "76/76 [==============================] - 0s 1ms/step - loss: 0.0519 - val_loss: 0.0632\n",
      "Epoch 60/100\n",
      "76/76 [==============================] - 0s 1ms/step - loss: 0.0519 - val_loss: 0.0633\n",
      "Epoch 61/100\n",
      "76/76 [==============================] - 0s 2ms/step - loss: 0.0519 - val_loss: 0.0632\n",
      "Epoch 62/100\n",
      "76/76 [==============================] - 0s 2ms/step - loss: 0.0519 - val_loss: 0.0632\n",
      "Epoch 63/100\n",
      "76/76 [==============================] - 0s 1ms/step - loss: 0.0520 - val_loss: 0.0632\n",
      "Epoch 64/100\n",
      "76/76 [==============================] - 0s 1ms/step - loss: 0.0519 - val_loss: 0.0633\n",
      "Epoch 65/100\n",
      "76/76 [==============================] - 0s 2ms/step - loss: 0.0520 - val_loss: 0.0632\n",
      "Epoch 66/100\n",
      "76/76 [==============================] - 0s 1ms/step - loss: 0.0519 - val_loss: 0.0633\n",
      "Epoch 67/100\n",
      "76/76 [==============================] - 0s 2ms/step - loss: 0.0519 - val_loss: 0.0632\n",
      "Epoch 68/100\n",
      "76/76 [==============================] - 0s 2ms/step - loss: 0.0520 - val_loss: 0.0633\n",
      "Epoch 69/100\n",
      "76/76 [==============================] - 0s 2ms/step - loss: 0.0520 - val_loss: 0.0633\n",
      "Epoch 70/100\n",
      "76/76 [==============================] - 0s 2ms/step - loss: 0.0519 - val_loss: 0.0633\n",
      "Epoch 71/100\n",
      "76/76 [==============================] - 0s 2ms/step - loss: 0.0519 - val_loss: 0.0632\n",
      "Epoch 72/100\n",
      "76/76 [==============================] - 0s 2ms/step - loss: 0.0520 - val_loss: 0.0632\n",
      "Epoch 73/100\n",
      "76/76 [==============================] - 0s 2ms/step - loss: 0.0520 - val_loss: 0.0632\n",
      "Epoch 74/100\n",
      "76/76 [==============================] - 0s 2ms/step - loss: 0.0520 - val_loss: 0.0632\n",
      "Epoch 75/100\n",
      "76/76 [==============================] - 0s 2ms/step - loss: 0.0519 - val_loss: 0.0632\n",
      "Epoch 76/100\n",
      "76/76 [==============================] - 0s 2ms/step - loss: 0.0519 - val_loss: 0.0633\n",
      "Epoch 77/100\n",
      "76/76 [==============================] - 0s 2ms/step - loss: 0.0519 - val_loss: 0.0632\n",
      "Epoch 78/100\n",
      "76/76 [==============================] - 0s 2ms/step - loss: 0.0520 - val_loss: 0.0633\n",
      "Epoch 79/100\n",
      "76/76 [==============================] - 0s 2ms/step - loss: 0.0519 - val_loss: 0.0633\n",
      "Epoch 80/100\n",
      "76/76 [==============================] - 0s 2ms/step - loss: 0.0519 - val_loss: 0.0632\n",
      "Epoch 81/100\n",
      "76/76 [==============================] - 0s 2ms/step - loss: 0.0520 - val_loss: 0.0632\n",
      "Epoch 82/100\n",
      "76/76 [==============================] - 0s 3ms/step - loss: 0.0519 - val_loss: 0.0632\n",
      "Epoch 83/100\n"
     ]
    },
    {
     "name": "stdout",
     "output_type": "stream",
     "text": [
      "76/76 [==============================] - 0s 2ms/step - loss: 0.0520 - val_loss: 0.0633\n",
      "Epoch 84/100\n",
      "76/76 [==============================] - 0s 2ms/step - loss: 0.0519 - val_loss: 0.0632\n",
      "Epoch 85/100\n",
      "76/76 [==============================] - 0s 2ms/step - loss: 0.0519 - val_loss: 0.0632\n",
      "Epoch 86/100\n",
      "76/76 [==============================] - 0s 2ms/step - loss: 0.0520 - val_loss: 0.0634\n",
      "Epoch 87/100\n",
      "76/76 [==============================] - 0s 2ms/step - loss: 0.0519 - val_loss: 0.0632\n",
      "Epoch 88/100\n",
      "76/76 [==============================] - 0s 2ms/step - loss: 0.0519 - val_loss: 0.0632\n",
      "Epoch 89/100\n",
      "76/76 [==============================] - 0s 2ms/step - loss: 0.0520 - val_loss: 0.0632\n",
      "Epoch 90/100\n",
      "76/76 [==============================] - 0s 2ms/step - loss: 0.0519 - val_loss: 0.0633\n",
      "Epoch 91/100\n",
      "76/76 [==============================] - 0s 2ms/step - loss: 0.0520 - val_loss: 0.0633\n",
      "Epoch 92/100\n",
      "76/76 [==============================] - 0s 2ms/step - loss: 0.0519 - val_loss: 0.0632\n",
      "Epoch 93/100\n",
      "76/76 [==============================] - 0s 2ms/step - loss: 0.0520 - val_loss: 0.0632\n",
      "Epoch 94/100\n",
      "76/76 [==============================] - 0s 1ms/step - loss: 0.0519 - val_loss: 0.0633\n",
      "Epoch 95/100\n",
      "76/76 [==============================] - 0s 1ms/step - loss: 0.0520 - val_loss: 0.0633\n",
      "Epoch 96/100\n",
      "76/76 [==============================] - 0s 1ms/step - loss: 0.0519 - val_loss: 0.0633\n",
      "Epoch 97/100\n",
      "76/76 [==============================] - 0s 1ms/step - loss: 0.0519 - val_loss: 0.0633\n",
      "Epoch 98/100\n",
      "76/76 [==============================] - 0s 2ms/step - loss: 0.0519 - val_loss: 0.0632\n",
      "Epoch 99/100\n",
      "76/76 [==============================] - 0s 2ms/step - loss: 0.0519 - val_loss: 0.0633\n",
      "Epoch 100/100\n",
      "76/76 [==============================] - 0s 1ms/step - loss: 0.0519 - val_loss: 0.0632\n"
     ]
    },
    {
     "data": {
      "text/plain": [
       "<keras.callbacks.History at 0x23e2cd7ec80>"
      ]
     },
     "execution_count": 57,
     "metadata": {},
     "output_type": "execute_result"
    }
   ],
   "source": [
    "# Train the complexity prediction model\n",
    "complexity_model.fit(req_train, comp_train, epochs=100, batch_size=32, validation_data=(req_test, comp_test))"
   ]
  },
  {
   "cell_type": "code",
   "execution_count": 58,
   "id": "06bc6e28",
   "metadata": {},
   "outputs": [
    {
     "name": "stdout",
     "output_type": "stream",
     "text": [
      "20/20 [==============================] - 0s 1ms/step\n"
     ]
    }
   ],
   "source": [
    "# Predict complexity values on the validation set\n",
    "predicted_complexity = complexity_model.predict(req_test)"
   ]
  },
  {
   "cell_type": "code",
   "execution_count": 59,
   "id": "32d0b956",
   "metadata": {},
   "outputs": [],
   "source": [
    "# Calculate MSE and MAE for complexity prediction\n",
    "mse_complexity = mean_squared_error(comp_test, predicted_complexity)\n",
    "mae_complexity = mean_absolute_error(comp_test, predicted_complexity)"
   ]
  },
  {
   "cell_type": "code",
   "execution_count": 60,
   "id": "d507373e",
   "metadata": {},
   "outputs": [],
   "source": [
    "# Calculate the percentage of MSE and MAE relative to the range of complexity values\n",
    "range_complexity = np.max(comp_test) - np.min(comp_test)\n",
    "percentage_mse_complexity = (mse_complexity / range_complexity) * 100\n",
    "percentage_mae_complexity = (mae_complexity / range_complexity) * 100"
   ]
  },
  {
   "cell_type": "code",
   "execution_count": 61,
   "id": "eaa0ddfc",
   "metadata": {},
   "outputs": [
    {
     "name": "stdout",
     "output_type": "stream",
     "text": [
      "Complexity Prediction MSE: 0.06\n",
      "Complexity Prediction MAE: 0.16\n",
      "Complexity Prediction MSE as Percentage: 6.32%\n",
      "Complexity Prediction MAE as Percentage: 15.68%\n"
     ]
    }
   ],
   "source": [
    "print(f'Complexity Prediction MSE: {mse_complexity:.2f}')\n",
    "print(f'Complexity Prediction MAE: {mae_complexity:.2f}')\n",
    "print(f'Complexity Prediction MSE as Percentage: {percentage_mse_complexity:.2f}%')\n",
    "print(f'Complexity Prediction MAE as Percentage: {percentage_mae_complexity:.2f}%')"
   ]
  },
  {
   "cell_type": "code",
   "execution_count": 62,
   "id": "0cedcade",
   "metadata": {},
   "outputs": [],
   "source": [
    "# Build a neural network for consequence prediction\n",
    "consequence_output = Dense(3, activation='linear')(input_layer)  # 3 outputs for Consequence\n",
    "consequence_model = Model(input_layer, consequence_output)\n",
    "consequence_model.compile(optimizer='adam', loss='mean_squared_error')"
   ]
  },
  {
   "cell_type": "code",
   "execution_count": 63,
   "id": "23859982",
   "metadata": {},
   "outputs": [
    {
     "name": "stdout",
     "output_type": "stream",
     "text": [
      "Epoch 1/100\n",
      "76/76 [==============================] - 0s 2ms/step - loss: 0.2208 - val_loss: 0.2042\n",
      "Epoch 2/100\n",
      "76/76 [==============================] - 0s 2ms/step - loss: 0.1863 - val_loss: 0.1727\n",
      "Epoch 3/100\n",
      "76/76 [==============================] - 0s 2ms/step - loss: 0.1578 - val_loss: 0.1465\n",
      "Epoch 4/100\n",
      "76/76 [==============================] - 0s 2ms/step - loss: 0.1340 - val_loss: 0.1246\n",
      "Epoch 5/100\n",
      "76/76 [==============================] - 0s 2ms/step - loss: 0.1142 - val_loss: 0.1064\n",
      "Epoch 6/100\n",
      "76/76 [==============================] - 0s 2ms/step - loss: 0.0980 - val_loss: 0.0916\n",
      "Epoch 7/100\n",
      "76/76 [==============================] - 0s 2ms/step - loss: 0.0849 - val_loss: 0.0797\n",
      "Epoch 8/100\n",
      "76/76 [==============================] - 0s 2ms/step - loss: 0.0745 - val_loss: 0.0703\n",
      "Epoch 9/100\n",
      "76/76 [==============================] - 0s 2ms/step - loss: 0.0663 - val_loss: 0.0629\n",
      "Epoch 10/100\n",
      "76/76 [==============================] - 0s 2ms/step - loss: 0.0601 - val_loss: 0.0574\n",
      "Epoch 11/100\n",
      "76/76 [==============================] - 0s 2ms/step - loss: 0.0553 - val_loss: 0.0532\n",
      "Epoch 12/100\n",
      "76/76 [==============================] - 0s 2ms/step - loss: 0.0518 - val_loss: 0.0500\n",
      "Epoch 13/100\n",
      "76/76 [==============================] - 0s 2ms/step - loss: 0.0493 - val_loss: 0.0478\n",
      "Epoch 14/100\n",
      "76/76 [==============================] - 0s 2ms/step - loss: 0.0475 - val_loss: 0.0462\n",
      "Epoch 15/100\n",
      "76/76 [==============================] - 0s 2ms/step - loss: 0.0463 - val_loss: 0.0451\n",
      "Epoch 16/100\n",
      "76/76 [==============================] - 0s 2ms/step - loss: 0.0454 - val_loss: 0.0444\n",
      "Epoch 17/100\n",
      "76/76 [==============================] - 0s 2ms/step - loss: 0.0449 - val_loss: 0.0439\n",
      "Epoch 18/100\n",
      "76/76 [==============================] - 0s 2ms/step - loss: 0.0445 - val_loss: 0.0435\n",
      "Epoch 19/100\n",
      "76/76 [==============================] - 0s 2ms/step - loss: 0.0443 - val_loss: 0.0433\n",
      "Epoch 20/100\n",
      "76/76 [==============================] - 0s 2ms/step - loss: 0.0442 - val_loss: 0.0432\n",
      "Epoch 21/100\n",
      "76/76 [==============================] - 0s 2ms/step - loss: 0.0441 - val_loss: 0.0431\n",
      "Epoch 22/100\n",
      "76/76 [==============================] - 0s 2ms/step - loss: 0.0441 - val_loss: 0.0431\n",
      "Epoch 23/100\n",
      "76/76 [==============================] - 0s 2ms/step - loss: 0.0440 - val_loss: 0.0430\n",
      "Epoch 24/100\n",
      "76/76 [==============================] - 0s 2ms/step - loss: 0.0440 - val_loss: 0.0430\n",
      "Epoch 25/100\n",
      "76/76 [==============================] - 0s 2ms/step - loss: 0.0440 - val_loss: 0.0430\n",
      "Epoch 26/100\n",
      "76/76 [==============================] - 0s 2ms/step - loss: 0.0440 - val_loss: 0.0430\n",
      "Epoch 27/100\n",
      "76/76 [==============================] - 0s 2ms/step - loss: 0.0440 - val_loss: 0.0430\n",
      "Epoch 28/100\n",
      "76/76 [==============================] - 0s 2ms/step - loss: 0.0440 - val_loss: 0.0430\n",
      "Epoch 29/100\n",
      "76/76 [==============================] - 0s 2ms/step - loss: 0.0440 - val_loss: 0.0430\n",
      "Epoch 30/100\n",
      "76/76 [==============================] - 0s 2ms/step - loss: 0.0440 - val_loss: 0.0430\n",
      "Epoch 31/100\n",
      "76/76 [==============================] - 0s 2ms/step - loss: 0.0440 - val_loss: 0.0430\n",
      "Epoch 32/100\n",
      "76/76 [==============================] - 0s 2ms/step - loss: 0.0440 - val_loss: 0.0430\n",
      "Epoch 33/100\n",
      "76/76 [==============================] - 0s 2ms/step - loss: 0.0440 - val_loss: 0.0430\n",
      "Epoch 34/100\n",
      "76/76 [==============================] - 0s 2ms/step - loss: 0.0440 - val_loss: 0.0430\n",
      "Epoch 35/100\n",
      "76/76 [==============================] - 0s 2ms/step - loss: 0.0440 - val_loss: 0.0430\n",
      "Epoch 36/100\n",
      "76/76 [==============================] - 0s 2ms/step - loss: 0.0440 - val_loss: 0.0430\n",
      "Epoch 37/100\n",
      "76/76 [==============================] - 0s 2ms/step - loss: 0.0440 - val_loss: 0.0430\n",
      "Epoch 38/100\n",
      "76/76 [==============================] - 0s 2ms/step - loss: 0.0440 - val_loss: 0.0430\n",
      "Epoch 39/100\n",
      "76/76 [==============================] - 0s 2ms/step - loss: 0.0440 - val_loss: 0.0430\n",
      "Epoch 40/100\n",
      "76/76 [==============================] - 0s 2ms/step - loss: 0.0440 - val_loss: 0.0430\n",
      "Epoch 41/100\n",
      "76/76 [==============================] - 0s 2ms/step - loss: 0.0440 - val_loss: 0.0430\n",
      "Epoch 42/100\n",
      "76/76 [==============================] - 0s 2ms/step - loss: 0.0440 - val_loss: 0.0430\n",
      "Epoch 43/100\n",
      "76/76 [==============================] - 0s 2ms/step - loss: 0.0440 - val_loss: 0.0430\n",
      "Epoch 44/100\n",
      "76/76 [==============================] - 0s 2ms/step - loss: 0.0440 - val_loss: 0.0430\n",
      "Epoch 45/100\n",
      "76/76 [==============================] - 0s 2ms/step - loss: 0.0440 - val_loss: 0.0430\n",
      "Epoch 46/100\n",
      "76/76 [==============================] - 0s 2ms/step - loss: 0.0440 - val_loss: 0.0430\n",
      "Epoch 47/100\n",
      "76/76 [==============================] - 0s 2ms/step - loss: 0.0440 - val_loss: 0.0430\n",
      "Epoch 48/100\n",
      "76/76 [==============================] - 0s 2ms/step - loss: 0.0440 - val_loss: 0.0430\n",
      "Epoch 49/100\n",
      "76/76 [==============================] - 0s 2ms/step - loss: 0.0440 - val_loss: 0.0430\n",
      "Epoch 50/100\n",
      "76/76 [==============================] - 0s 2ms/step - loss: 0.0440 - val_loss: 0.0430\n",
      "Epoch 51/100\n",
      "76/76 [==============================] - 0s 2ms/step - loss: 0.0440 - val_loss: 0.0430\n",
      "Epoch 52/100\n",
      "76/76 [==============================] - 0s 2ms/step - loss: 0.0440 - val_loss: 0.0430\n",
      "Epoch 53/100\n",
      "76/76 [==============================] - 0s 2ms/step - loss: 0.0440 - val_loss: 0.0430\n",
      "Epoch 54/100\n",
      "76/76 [==============================] - 0s 1ms/step - loss: 0.0440 - val_loss: 0.0430\n",
      "Epoch 55/100\n",
      "76/76 [==============================] - 0s 1ms/step - loss: 0.0440 - val_loss: 0.0430\n",
      "Epoch 56/100\n",
      "76/76 [==============================] - 0s 1ms/step - loss: 0.0440 - val_loss: 0.0430\n",
      "Epoch 57/100\n",
      "76/76 [==============================] - 0s 1ms/step - loss: 0.0440 - val_loss: 0.0430\n",
      "Epoch 58/100\n",
      "76/76 [==============================] - 0s 2ms/step - loss: 0.0440 - val_loss: 0.0430\n",
      "Epoch 59/100\n",
      "76/76 [==============================] - 0s 2ms/step - loss: 0.0440 - val_loss: 0.0430\n",
      "Epoch 60/100\n",
      "76/76 [==============================] - 0s 2ms/step - loss: 0.0440 - val_loss: 0.0430\n",
      "Epoch 61/100\n",
      "76/76 [==============================] - 0s 2ms/step - loss: 0.0440 - val_loss: 0.0430\n",
      "Epoch 62/100\n",
      "76/76 [==============================] - 0s 2ms/step - loss: 0.0440 - val_loss: 0.0430\n",
      "Epoch 63/100\n",
      "76/76 [==============================] - 0s 2ms/step - loss: 0.0440 - val_loss: 0.0430\n",
      "Epoch 64/100\n",
      "76/76 [==============================] - 0s 2ms/step - loss: 0.0440 - val_loss: 0.0430\n",
      "Epoch 65/100\n",
      "76/76 [==============================] - 0s 2ms/step - loss: 0.0440 - val_loss: 0.0430\n",
      "Epoch 66/100\n",
      "76/76 [==============================] - 0s 2ms/step - loss: 0.0440 - val_loss: 0.0430\n",
      "Epoch 67/100\n",
      "76/76 [==============================] - 0s 2ms/step - loss: 0.0440 - val_loss: 0.0430\n",
      "Epoch 68/100\n",
      "76/76 [==============================] - 0s 2ms/step - loss: 0.0440 - val_loss: 0.0430\n",
      "Epoch 69/100\n",
      "76/76 [==============================] - 0s 2ms/step - loss: 0.0440 - val_loss: 0.0430\n",
      "Epoch 70/100\n",
      "76/76 [==============================] - 0s 2ms/step - loss: 0.0440 - val_loss: 0.0430\n",
      "Epoch 71/100\n",
      "76/76 [==============================] - 0s 2ms/step - loss: 0.0440 - val_loss: 0.0430\n",
      "Epoch 72/100\n",
      "76/76 [==============================] - 0s 2ms/step - loss: 0.0440 - val_loss: 0.0430\n",
      "Epoch 73/100\n",
      "76/76 [==============================] - 0s 2ms/step - loss: 0.0440 - val_loss: 0.0430\n",
      "Epoch 74/100\n",
      "76/76 [==============================] - 0s 2ms/step - loss: 0.0440 - val_loss: 0.0430\n",
      "Epoch 75/100\n",
      "76/76 [==============================] - 0s 2ms/step - loss: 0.0440 - val_loss: 0.0430\n",
      "Epoch 76/100\n",
      "76/76 [==============================] - 0s 2ms/step - loss: 0.0440 - val_loss: 0.0430\n",
      "Epoch 77/100\n",
      "76/76 [==============================] - 0s 2ms/step - loss: 0.0440 - val_loss: 0.0430\n",
      "Epoch 78/100\n",
      "76/76 [==============================] - 0s 2ms/step - loss: 0.0440 - val_loss: 0.0430\n",
      "Epoch 79/100\n",
      "76/76 [==============================] - 0s 2ms/step - loss: 0.0440 - val_loss: 0.0430\n",
      "Epoch 80/100\n",
      "76/76 [==============================] - 0s 2ms/step - loss: 0.0440 - val_loss: 0.0430\n",
      "Epoch 81/100\n",
      "76/76 [==============================] - 0s 2ms/step - loss: 0.0440 - val_loss: 0.0430\n",
      "Epoch 82/100\n",
      "76/76 [==============================] - 0s 2ms/step - loss: 0.0440 - val_loss: 0.0430\n",
      "Epoch 83/100\n"
     ]
    },
    {
     "name": "stdout",
     "output_type": "stream",
     "text": [
      "76/76 [==============================] - 0s 2ms/step - loss: 0.0440 - val_loss: 0.0430\n",
      "Epoch 84/100\n",
      "76/76 [==============================] - 0s 2ms/step - loss: 0.0440 - val_loss: 0.0430\n",
      "Epoch 85/100\n",
      "76/76 [==============================] - 0s 1ms/step - loss: 0.0440 - val_loss: 0.0430\n",
      "Epoch 86/100\n",
      "76/76 [==============================] - 0s 2ms/step - loss: 0.0440 - val_loss: 0.0430\n",
      "Epoch 87/100\n",
      "76/76 [==============================] - 0s 2ms/step - loss: 0.0440 - val_loss: 0.0430\n",
      "Epoch 88/100\n",
      "76/76 [==============================] - 0s 2ms/step - loss: 0.0440 - val_loss: 0.0430\n",
      "Epoch 89/100\n",
      "76/76 [==============================] - 0s 2ms/step - loss: 0.0440 - val_loss: 0.0430\n",
      "Epoch 90/100\n",
      "76/76 [==============================] - 0s 2ms/step - loss: 0.0440 - val_loss: 0.0430\n",
      "Epoch 91/100\n",
      "76/76 [==============================] - 0s 2ms/step - loss: 0.0440 - val_loss: 0.0430\n",
      "Epoch 92/100\n",
      "76/76 [==============================] - 0s 2ms/step - loss: 0.0440 - val_loss: 0.0430\n",
      "Epoch 93/100\n",
      "76/76 [==============================] - 0s 2ms/step - loss: 0.0440 - val_loss: 0.0430\n",
      "Epoch 94/100\n",
      "76/76 [==============================] - 0s 2ms/step - loss: 0.0440 - val_loss: 0.0430\n",
      "Epoch 95/100\n",
      "76/76 [==============================] - 0s 2ms/step - loss: 0.0440 - val_loss: 0.0430\n",
      "Epoch 96/100\n",
      "76/76 [==============================] - 0s 2ms/step - loss: 0.0440 - val_loss: 0.0430\n",
      "Epoch 97/100\n",
      "76/76 [==============================] - 0s 2ms/step - loss: 0.0440 - val_loss: 0.0430\n",
      "Epoch 98/100\n",
      "76/76 [==============================] - 0s 2ms/step - loss: 0.0440 - val_loss: 0.0430\n",
      "Epoch 99/100\n",
      "76/76 [==============================] - 0s 2ms/step - loss: 0.0440 - val_loss: 0.0430\n",
      "Epoch 100/100\n",
      "76/76 [==============================] - 0s 2ms/step - loss: 0.0440 - val_loss: 0.0430\n"
     ]
    },
    {
     "data": {
      "text/plain": [
       "<keras.callbacks.History at 0x23e2cc72080>"
      ]
     },
     "execution_count": 63,
     "metadata": {},
     "output_type": "execute_result"
    }
   ],
   "source": [
    "# Train the consequence prediction model\n",
    "consequence_model.fit(req_train, conseq_train, epochs=100, batch_size=32, validation_data=(req_test, conseq_test))"
   ]
  },
  {
   "cell_type": "code",
   "execution_count": 64,
   "id": "eba24fa9",
   "metadata": {},
   "outputs": [
    {
     "name": "stdout",
     "output_type": "stream",
     "text": [
      "20/20 [==============================] - 0s 945us/step\n"
     ]
    }
   ],
   "source": [
    "# Predict consequence values on the validation set\n",
    "predicted_consequence = consequence_model.predict(req_test)"
   ]
  },
  {
   "cell_type": "code",
   "execution_count": 65,
   "id": "1f0bd840",
   "metadata": {},
   "outputs": [],
   "source": [
    "# Calculate MSE and MAE for consequence prediction\n",
    "mse_consequence = mean_squared_error(conseq_test, predicted_consequence)\n",
    "mae_consequence = mean_absolute_error(conseq_test, predicted_consequence)"
   ]
  },
  {
   "cell_type": "code",
   "execution_count": 66,
   "id": "ac71128d",
   "metadata": {},
   "outputs": [],
   "source": [
    "# Calculate the percentage of MSE and MAE relative to the range of consequence values\n",
    "range_consequence = np.max(conseq_test) - np.min(conseq_test)\n",
    "percentage_mse_consequence = (mse_consequence / range_consequence) * 100\n",
    "percentage_mae_consequence = (mae_consequence / range_consequence) * 100"
   ]
  },
  {
   "cell_type": "code",
   "execution_count": 67,
   "id": "5113eb5a",
   "metadata": {},
   "outputs": [
    {
     "name": "stdout",
     "output_type": "stream",
     "text": [
      "Consequence Prediction MSE: 0.04\n",
      "Consequence Prediction MAE: 0.13\n",
      "Consequence Prediction MSE as Percentage: 4.30%\n",
      "Consequence Prediction MAE as Percentage: 12.77%\n"
     ]
    }
   ],
   "source": [
    "print(f'Consequence Prediction MSE: {mse_consequence:.2f}')\n",
    "print(f'Consequence Prediction MAE: {mae_consequence:.2f}')\n",
    "print(f'Consequence Prediction MSE as Percentage: {percentage_mse_consequence:.2f}%')\n",
    "print(f'Consequence Prediction MAE as Percentage: {percentage_mae_consequence:.2f}%')"
   ]
  },
  {
   "cell_type": "code",
   "execution_count": 68,
   "id": "415059e0",
   "metadata": {},
   "outputs": [
    {
     "data": {
      "image/png": "[encoded data removed]",
      "text/plain": [
       "<Figure size 640x480 with 1 Axes>"
      ]
     },
     "metadata": {},
     "output_type": "display_data"
    }
   ],
   "source": [
    "import matplotlib.pyplot as plt\n",
    "\n",
    "# Extract 'Lines of Code' and 'Cyclomatic Complexity' from the test set\n",
    "lines_of_code_original = comp_test[:, 0]\n",
    "cyclomatic_complexity_original = comp_test[:, 1]\n",
    "\n",
    "# Extract the predicted values\n",
    "lines_of_code_predicted = predicted_complexity[:, 0]\n",
    "cyclomatic_complexity_predicted = predicted_complexity[:, 1]\n",
    "\n",
    "# Create a bar graph\n",
    "labels = ['Lines of Code', 'Cyclomatic Complexity']\n",
    "original_values = [lines_of_code_original.mean(), cyclomatic_complexity_original.mean()]\n",
    "predicted_values = [lines_of_code_predicted.mean(), cyclomatic_complexity_predicted.mean()]\n",
    "\n",
    "x = np.arange(len(labels))\n",
    "width = 0.35\n",
    "\n",
    "fig, ax = plt.subplots()\n",
    "rects1 = ax.bar(x - width/2, original_values, width, label='Original')\n",
    "rects2 = ax.bar(x + width/2, predicted_values, width, label='Predicted')\n",
    "\n",
    "ax.set_ylabel('Values')\n",
    "ax.set_title('Original vs Predicted Complexity')\n",
    "ax.set_xticks(x)\n",
    "ax.set_xticklabels(labels)\n",
    "ax.legend()\n",
    "\n",
    "fig.tight_layout()\n",
    "\n",
    "plt.show()\n"
   ]
  },
  {
   "cell_type": "code",
   "execution_count": 69,
   "id": "e501d05f",
   "metadata": {},
   "outputs": [
    {
     "name": "stdout",
     "output_type": "stream",
     "text": [
      "Cyclomatic Complexity Prediction MSE: 0.06\n",
      "Cyclomatic Complexity Prediction MAE: 0.16\n",
      "Cyclomatic Complexity Prediction MSE as Percentage: 6.18%\n",
      "Cyclomatic Complexity Prediction MAE as Percentage: 15.51%\n",
      "Lines of Code Prediction MSE: 0.06\n",
      "Lines of Code Prediction MAE: 0.16\n",
      "Lines of Code Prediction MSE as Percentage: 6.46%\n",
      "Lines of Code Prediction MAE as Percentage: 15.86%\n"
     ]
    }
   ],
   "source": [
    "# Calculate MSE for Cyclomatic Complexity\n",
    "mse_cyclomatic_complexity = mean_squared_error(comp_test[:, 1], predicted_complexity[:, 1])\n",
    "\n",
    "# Calculate MAE for Cyclomatic Complexity\n",
    "mae_cyclomatic_complexity = mean_absolute_error(comp_test[:, 1], predicted_complexity[:, 1])\n",
    "\n",
    "# Calculate the percentage of MSE relative to the range for Cyclomatic Complexity\n",
    "range_cyclomatic_complexity = np.max(comp_test[:, 1]) - np.min(comp_test[:, 1])\n",
    "percentage_mse_cyclomatic_complexity = (mse_cyclomatic_complexity / range_cyclomatic_complexity) * 100\n",
    "\n",
    "# Calculate the percentage of MAE relative to the range for Cyclomatic Complexity\n",
    "percentage_mae_cyclomatic_complexity = (mae_cyclomatic_complexity / range_cyclomatic_complexity) * 100\n",
    "\n",
    "print(f'Cyclomatic Complexity Prediction MSE: {mse_cyclomatic_complexity:.2f}')\n",
    "print(f'Cyclomatic Complexity Prediction MAE: {mae_cyclomatic_complexity:.2f}')\n",
    "print(f'Cyclomatic Complexity Prediction MSE as Percentage: {percentage_mse_cyclomatic_complexity:.2f}%')\n",
    "print(f'Cyclomatic Complexity Prediction MAE as Percentage: {percentage_mae_cyclomatic_complexity:.2f}%')\n",
    "\n",
    "# Calculate MSE for Lines of Code\n",
    "mse_lines_of_code = mean_squared_error(comp_test[:, 0], predicted_complexity[:, 0])\n",
    "\n",
    "# Calculate MAE for Lines of Code\n",
    "mae_lines_of_code = mean_absolute_error(comp_test[:, 0], predicted_complexity[:, 0])\n",
    "\n",
    "# Calculate the percentage of MSE relative to the range for Lines of Code\n",
    "range_lines_of_code = np.max(comp_test[:, 0]) - np.min(comp_test[:, 0])\n",
    "percentage_mse_lines_of_code = (mse_lines_of_code / range_lines_of_code) * 100\n",
    "\n",
    "# Calculate the percentage of MAE relative to the range for Lines of Code\n",
    "percentage_mae_lines_of_code = (mae_lines_of_code / range_lines_of_code) * 100\n",
    "\n",
    "print(f'Lines of Code Prediction MSE: {mse_lines_of_code:.2f}')\n",
    "print(f'Lines of Code Prediction MAE: {mae_lines_of_code:.2f}')\n",
    "print(f'Lines of Code Prediction MSE as Percentage: {percentage_mse_lines_of_code:.2f}%')\n",
    "print(f'Lines of Code Prediction MAE as Percentage: {percentage_mae_lines_of_code:.2f}%')\n"
   ]
  },
  {
   "cell_type": "code",
   "execution_count": 70,
   "id": "86d7fada",
   "metadata": {},
   "outputs": [
    {
     "data": {
      "image/png": "[encoded data removed]",
      "text/plain": [
       "<Figure size 640x480 with 1 Axes>"
      ]
     },
     "metadata": {},
     "output_type": "display_data"
    }
   ],
   "source": [
    "import matplotlib.pyplot as plt\n",
    "\n",
    "# Extract 'Number of Calls', 'TBF', and 'Reliability' from the test set\n",
    "num_calls_original = conseq_test[:, 0]\n",
    "tbf_original = conseq_test[:, 1]\n",
    "reliability_original = conseq_test[:, 2]\n",
    "\n",
    "# Extract the predicted values\n",
    "num_calls_predicted = predicted_consequence[:, 0]\n",
    "tbf_predicted = predicted_consequence[:, 1]\n",
    "reliability_predicted = predicted_consequence[:, 2]\n",
    "\n",
    "# Create a bar graph\n",
    "labels = ['Number of Calls', 'TBF', 'Reliability']\n",
    "original_values = [num_calls_original.mean(), tbf_original.mean(), reliability_original.mean()]\n",
    "predicted_values = [num_calls_predicted.mean(), tbf_predicted.mean(), reliability_predicted.mean()]\n",
    "\n",
    "x = np.arange(len(labels))\n",
    "width = 0.35\n",
    "\n",
    "fig, ax = plt.subplots()\n",
    "rects1 = ax.bar(x - width/2, original_values, width, label='Original')\n",
    "rects2 = ax.bar(x + width/2, predicted_values, width, label='Predicted')\n",
    "\n",
    "ax.set_ylabel('Values')\n",
    "ax.set_title('Original vs Predicted Consequences')\n",
    "ax.set_xticks(x)\n",
    "ax.set_xticklabels(labels)\n",
    "ax.legend()\n",
    "\n",
    "fig.tight_layout()\n",
    "\n",
    "plt.show()\n"
   ]
  },
  {
   "cell_type": "code",
   "execution_count": 71,
   "id": "a5b60814",
   "metadata": {},
   "outputs": [
    {
     "name": "stdout",
     "output_type": "stream",
     "text": [
      "Number of Calls Prediction MSE: 0.11\n",
      "Number of Calls Prediction MAE: 0.27\n",
      "Number of Calls Prediction MSE as Percentage: 11.00%\n",
      "Number of Calls Prediction MAE as Percentage: 27.13%\n"
     ]
    }
   ],
   "source": [
    "# Calculate MSE for Number of Calls\n",
    "mse_number_of_calls = mean_squared_error(conseq_test[:, 2], predicted_consequence[:, 2])\n",
    "\n",
    "# Calculate MAE for Number of Calls\n",
    "mae_number_of_calls = mean_absolute_error(conseq_test[:, 2], predicted_consequence[:, 2])\n",
    "\n",
    "# Calculate the percentage of MSE and MAE relative to the range for Number of Calls\n",
    "range_number_of_calls = np.max(conseq_test[:, 2]) - np.min(conseq_test[:, 2])\n",
    "percentage_mse_number_of_calls = (mse_number_of_calls / range_number_of_calls) * 100\n",
    "percentage_mae_number_of_calls = (mae_number_of_calls / range_number_of_calls) * 100\n",
    "\n",
    "print(f'Number of Calls Prediction MSE: {mse_number_of_calls:.2f}')\n",
    "print(f'Number of Calls Prediction MAE: {mae_number_of_calls:.2f}')\n",
    "print(f'Number of Calls Prediction MSE as Percentage: {percentage_mse_number_of_calls:.2f}%')\n",
    "print(f'Number of Calls Prediction MAE as Percentage: {percentage_mae_number_of_calls:.2f}%')\n"
   ]
  },
  {
   "cell_type": "code",
   "execution_count": 72,
   "id": "ee5cb16b",
   "metadata": {},
   "outputs": [
    {
     "name": "stdout",
     "output_type": "stream",
     "text": [
      "TBF Prediction MSE: 0.01\n",
      "TBF Prediction MAE: 0.08\n",
      "TBF Prediction MSE as Percentage: 1.14%\n",
      "TBF Prediction MAE as Percentage: 7.66%\n"
     ]
    }
   ],
   "source": [
    "# Calculate MSE for TBF\n",
    "mse_tbf = mean_squared_error(conseq_test[:, 0], predicted_consequence[:, 0])\n",
    "\n",
    "# Calculate MAE for TBF\n",
    "mae_tbf = mean_absolute_error(conseq_test[:, 0], predicted_consequence[:, 0])\n",
    "\n",
    "# Calculate the percentage of MSE and MAE relative to the range for TBF\n",
    "range_tbf = np.max(conseq_test[:, 0]) - np.min(conseq_test[:, 0])\n",
    "percentage_mse_tbf = (mse_tbf / range_tbf) * 100\n",
    "percentage_mae_tbf = (mae_tbf / range_tbf) * 100\n",
    "\n",
    "print(f'TBF Prediction MSE: {mse_tbf:.2f}')\n",
    "print(f'TBF Prediction MAE: {mae_tbf:.2f}')\n",
    "print(f'TBF Prediction MSE as Percentage: {percentage_mse_tbf:.2f}%')\n",
    "print(f'TBF Prediction MAE as Percentage: {percentage_mae_tbf:.2f}%')\n"
   ]
  },
  {
   "cell_type": "code",
   "execution_count": 73,
   "id": "0e82c555",
   "metadata": {},
   "outputs": [
    {
     "name": "stdout",
     "output_type": "stream",
     "text": [
      "Reliability Prediction MSE: 0.01\n",
      "Reliability Prediction MAE: 0.04\n",
      "Reliability Prediction MSE as Percentage: 0.88%\n",
      "Reliability Prediction MAE as Percentage: 4.17%\n"
     ]
    }
   ],
   "source": [
    "# Calculate MSE for Reliability\n",
    "mse_reliability = mean_squared_error(conseq_test[:, 1], predicted_consequence[:, 1])\n",
    "\n",
    "# Calculate MAE for Reliability\n",
    "mae_reliability = mean_absolute_error(conseq_test[:, 1], predicted_consequence[:, 1])\n",
    "\n",
    "# Calculate the percentage of MSE and MAE relative to the range for Reliability\n",
    "range_reliability = np.max(conseq_test[:, 1]) - np.min(conseq_test[:, 1])\n",
    "percentage_mse_reliability = (mse_reliability / range_reliability) * 100\n",
    "percentage_mae_reliability = (mae_reliability / range_reliability) * 100\n",
    "\n",
    "print(f'Reliability Prediction MSE: {mse_reliability:.2f}')\n",
    "print(f'Reliability Prediction MAE: {mae_reliability:.2f}')\n",
    "print(f'Reliability Prediction MSE as Percentage: {percentage_mse_reliability:.2f}%')\n",
    "print(f'Reliability Prediction MAE as Percentage: {percentage_mae_reliability:.2f}%')\n"
   ]
  },
  {
   "cell_type": "code",
   "execution_count": null,
   "id": "f841970d",
   "metadata": {},
   "outputs": [],
   "source": []
  }
 ],
 "metadata": {
  "kernelspec": {
   "display_name": "Python 3 (ipykernel)",
   "language": "python",
   "name": "python3"
  },
  "language_info": {
   "codemirror_mode": {
    "name": "ipython",
    "version": 3
   },
   "file_extension": ".py",
   "mimetype": "text/x-python",
   "name": "python",
   "nbconvert_exporter": "python",
   "pygments_lexer": "ipython3",
   "version": "3.10.9"
  }
 },
 "nbformat": 4,
 "nbformat_minor": 5
}
